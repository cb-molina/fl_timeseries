{
 "cells": [
  {
   "cell_type": "markdown",
   "id": "2504bdea",
   "metadata": {},
   "source": [
    "## Time Series Analysis on Fountain Lake Data\n",
    "Combine these data sets and plot them on the same time graph. We want to see if AC voltage spread is triggering the breaker trip by making the neutral current go high."
   ]
  },
  {
   "cell_type": "code",
   "execution_count": 9,
   "id": "d9da571e",
   "metadata": {},
   "outputs": [],
   "source": [
    "import pandas as pd\n",
    "import plotly.graph_objects as go\n",
    "import ipywidgets as widgets\n",
    "pd.options.plotting.backend = \"plotly\""
   ]
  },
  {
   "cell_type": "code",
   "execution_count": 10,
   "id": "63d66ea9",
   "metadata": {},
   "outputs": [],
   "source": [
    "data = []\n",
    "data.append(pd.read_csv(filepath_or_buffer = 'data/Oz Mtn - Current and Voltage through 7-18.csv'))\n",
    "data.append(pd.read_csv(filepath_or_buffer = 'data/Oz Mtn - Temp Data through 7-18.csv'))\n",
    "data.append(pd.read_csv(filepath_or_buffer = 'data/Oz Mtn Irradiance Data through 7-18.csv'))\n",
    "data.append(pd.read_csv(filepath_or_buffer = 'data/Oz Mtn Power Data through 7-18.csv'))"
   ]
  },
  {
   "cell_type": "code",
   "execution_count": 11,
   "id": "f7b66fc0",
   "metadata": {},
   "outputs": [],
   "source": [
    "def setindex(data):\n",
    "    data = data.set_index('Site Time')\n",
    "    data.index = pd.to_datetime(data.index)\n",
    "    return data\n",
    "    \n",
    "\n",
    "def plot_data(data, dropna = True, legend = 'default', col_rename = None, units = None, graph_mode = None):\n",
    "    if dropna == True:\n",
    "        data = data.dropna()\n",
    "    \n",
    "    data = setindex(data)\n",
    "    \n",
    "    if col_rename is not None:\n",
    "        data = data.rename(columns = col_rename)\n",
    "    \n",
    "    if graph_mode == 'figure':\n",
    "        data_arr = []\n",
    "        for c in data.columns[1:]:\n",
    "            data_arr.append(data.loc[:,c].dropna())\n",
    "        \n",
    "        data_plot = go.Figure()\n",
    "        \n",
    "        for d in data_arr:\n",
    "            data_plot.add_trace(go.Scatter(\n",
    "                x=data.index,\n",
    "                y=d,\n",
    "                name = d.name,\n",
    "                mode = 'lines'\n",
    "            ))\n",
    "    else:\n",
    "        data_plot = data.plot()\n",
    "    \n",
    "    if legend == 'vertical':\n",
    "        data_plot.update_layout(\n",
    "                legend_title_text='Legend',\n",
    "                legend=dict(yanchor=\"top\", xanchor=\"left\", y=1, x=0.01),\n",
    "                xaxis_title=\"Site Time\",\n",
    "                yaxis_title=units,\n",
    "            )\n",
    "    elif legend == 'default':\n",
    "        data_plot.update_layout(\n",
    "                legend_title_text='Legend',\n",
    "                xaxis_title=\"Site Time\",\n",
    "                yaxis_title=units,\n",
    "            )\n",
    "    \n",
    "    setattr(data, 'plot', data_plot)\n",
    "    \n",
    "    return data"
   ]
  },
  {
   "cell_type": "code",
   "execution_count": 12,
   "id": "44a7559e",
   "metadata": {},
   "outputs": [],
   "source": [
    "inv_col = {\n",
    "    'Power factor phase angle Power factor phase angle' : 'Power Factor Phase Angle',\n",
    "    'IacA Amps' : 'IacA (A)',\n",
    "    'IacB Amps' : 'IacB (A)',\n",
    "    'IacC Amps' : 'IacC (A)',\n",
    "    'VacA Volts' : 'VacA (V)',\n",
    "    'VacB Volts' : 'VacB (V)',\n",
    "    'VacC Volts' : 'VacC (V)',\n",
    "    'VacAB Volts' : 'VacAB (V)',\n",
    "    'VacBC Volts' : 'VacBC (V)',\n",
    "    'VacCA Volts' : 'VacCA (V)',\n",
    "}\n",
    "\n",
    "temp_col = {\n",
    "    'Weather Station - 1 (POA w/ Wind & Ambient Temp) - Ambient Temperature Degrees Fahrenheit' : 'WS 1 (POA w/ Wind & Amb Temp)',\n",
    "    'Weather Station - 2 (GHI w/ Mod Temp) - Module Temperature 1 Degrees Fahrenheit' : 'WS 2 (GHI w/ Mod Temp 1)',\n",
    "    'Weather Station - 2 (GHI w/ Mod Temp) - Module Temperature 2 Degrees Fahrenheit' : 'WS 2 (GHI w/ Mod Temp 2)'\n",
    "}\n",
    "irr_col = {\n",
    "    'Weather Station - 1 (POA w/ Wind & Ambient Temp) (GHI) Watt hours/meter²' : 'WS 1 (POA w/ Wind & Amb Temp) (GHI)',\n",
    "    'Weather Station - 2 (GHI w/ Mod Temp) (GHI) Watt hours/meter²' : 'WS 2 (GHI w/ Mod Temp) (GHI)'\n",
    "}"
   ]
  },
  {
   "cell_type": "code",
   "execution_count": 13,
   "id": "49b98340",
   "metadata": {},
   "outputs": [],
   "source": [
    "iv = plot_data(data[0], col_rename = inv_col, units = 'Voltage (V), Current (A)')\n",
    "temp = plot_data(data[1], col_rename = temp_col, units = 'Fahrenheit (F)')\n",
    "pwr = plot_data(data[-1], dropna = False, units = 'Power (kWH)')\n",
    "irr = plot_data(data[2], dropna = False, col_rename = irr_col, units = 'Irradiance (kW/m^2)', graph_mode = 'figure')"
   ]
  },
  {
   "cell_type": "markdown",
   "id": "b34d4fe3",
   "metadata": {},
   "source": [
    "### Current and Voltage"
   ]
  },
  {
   "cell_type": "code",
   "execution_count": 15,
   "id": "a75c181b",
   "metadata": {},
   "outputs": [],
   "source": [
    "iv_out = widgets.Output()\n",
    "with iv_out:\n",
    "    display(iv.plot)"
   ]
  },
  {
   "cell_type": "code",
   "execution_count": 16,
   "id": "7063d882",
   "metadata": {},
   "outputs": [
    {
     "data": {
      "application/vnd.jupyter.widget-view+json": {
       "model_id": "dc9cc2687dd949228d5faf700e83cb14",
       "version_major": 2,
       "version_minor": 0
      },
      "text/plain": [
       "Output(outputs=({'output_type': 'display_data', 'data': {'text/html': '        <script type=\"text/javascript\">…"
      ]
     },
     "metadata": {},
     "output_type": "display_data"
    }
   ],
   "source": [
    "display(iv_out)"
   ]
  },
  {
   "cell_type": "markdown",
   "id": "49f1b9ca",
   "metadata": {},
   "source": [
    "### Temperature"
   ]
  },
  {
   "cell_type": "code",
   "execution_count": 17,
   "id": "92d823a1",
   "metadata": {},
   "outputs": [],
   "source": [
    "temp_out = widgets.Output()\n",
    "with temp_out:\n",
    "    display(temp.plot)"
   ]
  },
  {
   "cell_type": "code",
   "execution_count": 18,
   "id": "0534871b",
   "metadata": {},
   "outputs": [
    {
     "data": {
      "application/vnd.jupyter.widget-view+json": {
       "model_id": "75795f695802452081bb6478ca91cc6f",
       "version_major": 2,
       "version_minor": 0
      },
      "text/plain": [
       "Output()"
      ]
     },
     "metadata": {},
     "output_type": "display_data"
    }
   ],
   "source": [
    "temp_out"
   ]
  },
  {
   "cell_type": "markdown",
   "id": "adb13d66",
   "metadata": {},
   "source": [
    "### Power"
   ]
  },
  {
   "cell_type": "code",
   "execution_count": 20,
   "id": "aafa3539",
   "metadata": {},
   "outputs": [],
   "source": [
    "pwr_out = widgets.Output()\n",
    "with pwr_out:\n",
    "    display(pwr.plot)"
   ]
  },
  {
   "cell_type": "code",
   "execution_count": 21,
   "id": "8326a097",
   "metadata": {},
   "outputs": [
    {
     "data": {
      "application/vnd.jupyter.widget-view+json": {
       "model_id": "dca8b3e1171c4c999354ec0dcfcb54bf",
       "version_major": 2,
       "version_minor": 0
      },
      "text/plain": [
       "Output()"
      ]
     },
     "metadata": {},
     "output_type": "display_data"
    }
   ],
   "source": [
    "display(pwr_out)"
   ]
  },
  {
   "cell_type": "markdown",
   "id": "a21c0f7e",
   "metadata": {},
   "source": [
    "### Irradiance"
   ]
  },
  {
   "cell_type": "code",
   "execution_count": 23,
   "id": "db8f5a1c",
   "metadata": {},
   "outputs": [],
   "source": [
    "irr_out = widgets.Output()\n",
    "with irr_out:\n",
    "    display(irr.plot)"
   ]
  },
  {
   "cell_type": "code",
   "execution_count": 24,
   "id": "5ce4079a",
   "metadata": {},
   "outputs": [
    {
     "data": {
      "application/vnd.jupyter.widget-view+json": {
       "model_id": "3d614004e68d439d8e136de41900b53e",
       "version_major": 2,
       "version_minor": 0
      },
      "text/plain": [
       "Output()"
      ]
     },
     "metadata": {},
     "output_type": "display_data"
    }
   ],
   "source": [
    "display(irr_out)"
   ]
  },
  {
   "cell_type": "code",
   "execution_count": null,
   "id": "474db8af",
   "metadata": {},
   "outputs": [],
   "source": []
  }
 ],
 "metadata": {
  "kernelspec": {
   "display_name": "Python 3 (ipykernel)",
   "language": "python",
   "name": "python3"
  },
  "language_info": {
   "codemirror_mode": {
    "name": "ipython",
    "version": 3
   },
   "file_extension": ".py",
   "mimetype": "text/x-python",
   "name": "python",
   "nbconvert_exporter": "python",
   "pygments_lexer": "ipython3",
   "version": "3.8.8"
  }
 },
 "nbformat": 4,
 "nbformat_minor": 5
}
